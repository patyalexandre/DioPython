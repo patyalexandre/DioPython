{
  "nbformat": 4,
  "nbformat_minor": 0,
  "metadata": {
    "colab": {
      "provenance": [],
      "authorship_tag": "ABX9TyMqSQ6u60LtfO1+aLAjLG4H",
      "include_colab_link": true
    },
    "kernelspec": {
      "name": "python3",
      "display_name": "Python 3"
    },
    "language_info": {
      "name": "python"
    }
  },
  "cells": [
    {
      "cell_type": "markdown",
      "metadata": {
        "id": "view-in-github",
        "colab_type": "text"
      },
      "source": [
        "<a href=\"https://colab.research.google.com/github/patyalexandre/DioPython/blob/main/19Desafio.ipynb\" target=\"_parent\"><img src=\"https://colab.research.google.com/assets/colab-badge.svg\" alt=\"Open In Colab\"/></a>"
      ]
    },
    {
      "cell_type": "markdown",
      "source": [
        "## Sistema bancário"
      ],
      "metadata": {
        "id": "W7Kt3SQO7gJs"
      }
    },
    {
      "cell_type": "code",
      "source": [
        "menu = '''\n",
        "Menu\n",
        "[d] Depositar \n",
        "[s] Sacar\n",
        "[e] Extrato\n",
        "[q] Sair\n",
        "'''\n",
        "\n",
        "saldo = 0 #depositos precisam ser em valores inteiros positivos\n",
        "limite = 500 #limite diário por saque\n",
        "numero_saques = 1 \n",
        "limite_saques = 3 #qte maxima (vlr cte)\n",
        "extrato = '' #será do tipo string (precisa ter o R$)\n",
        "\n",
        "\n",
        "#1a parte - acesso ao menu\n",
        "while True: #loop infinito (pra ter o break)\n",
        "  \n",
        "  opcao = input(menu)\n",
        "\n",
        "  if opcao =='d':\n",
        "    valor = float(input('Qual o valor para deposito? '))\n",
        "    if valor>0:\n",
        "      saldo+= valor\n",
        "      extrato+= f'Depósito: R$ {valor:.2f}\\n'\n",
        "      print('Depósito realizado!')\n",
        "    else:\n",
        "      print('Valor inválido!')\n",
        "\n",
        "  elif opcao =='s':\n",
        "    valor = float(input('Qual o valor para saque? '))\n",
        "    if numero_saques <= limite_saques:\n",
        "      if valor>0:\n",
        "        if saldo-valor>0:\n",
        "          saldo-=valor\n",
        "          extrato+= f'Saque: R$ {valor:.2f}\\n'\n",
        "          print(f'Saque {numero_saques}/{limite_saques} realizado!')\n",
        "          numero_saques+=1\n",
        "        else:\n",
        "          print('Valor não disponível')\n",
        "      else:\n",
        "        print('Valor inválido!') \n",
        "    else:\n",
        "      print('Número de saques extrapolado!')\n",
        "\n",
        "  elif opcao =='e':\n",
        "    print('\\n*************EXTRATO*************')\n",
        "    if extrato != '':\n",
        "      print(extrato)\n",
        "      print(f'Saldo de {saldo:.2f}')\n",
        "    else:\n",
        "      print('Sem movimentações.')\n",
        "    print('\\n*********************************')\n",
        "  \n",
        "  elif opcao =='q':\n",
        "    break\n",
        "  \n",
        "  else:\n",
        "    print('Operação inválida!')"
      ],
      "metadata": {
        "id": "KeeIetOF7JHV"
      },
      "execution_count": null,
      "outputs": []
    }
  ]
}